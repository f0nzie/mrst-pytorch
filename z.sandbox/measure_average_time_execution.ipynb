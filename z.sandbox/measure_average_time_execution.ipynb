{
 "nbformat": 4,
 "nbformat_minor": 2,
 "metadata": {
  "language_info": {
   "name": "python",
   "codemirror_mode": {
    "name": "ipython",
    "version": 3
   },
   "version": "3.6.9"
  },
  "orig_nbformat": 2,
  "file_extension": ".py",
  "mimetype": "text/x-python",
  "name": "python",
  "npconvert_exporter": "python",
  "pygments_lexer": "ipython3",
  "version": 3
 },
 "cells": [
  {
   "cell_type": "markdown",
   "execution_count": null,
   "metadata": {},
   "outputs": [],
   "source": [
    "## `timeit.timeit`\n",
    "\n",
    "`timeit.timeit` runs your snippet of code millions of time (default value is 1000000) so that you get the statistically most relevant measurement of code execution time!\n",
    "\n",
    "The module function `timeit.timeit(stmt, setup, timer, number)` accepts four arguments:\n",
    "\n",
    "`stmt`: which is the statement you want to measure; it defaults to ‘pass’.\n",
    "\n",
    "`setup`: which is the code that you run before running the stmt; it defaults to ‘pass’.\n",
    "\n",
    "`timer` which is a timeit.Timer object; it usually has a sensible default value so you don’t have to worry about it.\n",
    "\n",
    "`number`: which is the number of executions you’d like to run the stmt.\n"
   ]
  },
  {
   "cell_type": "code",
   "execution_count": 30,
   "metadata": {},
   "outputs": [
    {
     "name": "stdout",
     "output_type": "stream",
     "text": "0.0069180609862087294\nTime all executions: 0.0069180609862087294\nTime per execution:  6.918060986208729e-08\n"
    }
   ],
   "source": [
    "# importing the required module \n",
    "import timeit \n",
    "import numpy as np\n",
    "\n",
    "# code snippet to be executed only once \n",
    "mysetup = \"from math import sqrt\"\n",
    "\n",
    "# code snippet whose execution time is to be measured \n",
    "mycode = ''' \n",
    "def example(): \n",
    "\tmylist = [] \n",
    "\tfor x in range(1000): \n",
    "\t\tmylist.append(sqrt(x)) \n",
    "'''\n",
    "\n",
    "# timeit statement \n",
    "n = 100000\n",
    "timeits = timeit.timeit(setup = mysetup, \n",
    "\t\t\t\t\tstmt = mycode,\n",
    "\t\t\t\t\tnumber = n)\n",
    "print(timeits)\n",
    "#avg = np.mean(timeits)\n",
    "avg = timeits / n\n",
    "\n",
    "print(\"Time all executions: {}\".format(timeits))\n",
    "print(\"Time per execution:  {}\".format(avg))\n"
   ]
  },
  {
   "cell_type": "markdown",
   "execution_count": null,
   "metadata": {},
   "outputs": [],
   "source": [
    "## `timeit.repeat`\n",
    "`timeit.repeat()` function accepts one extra argument, `repeat`. The output will be a list of the execution times of all code runs repeated a specified no. of times."
   ]
  },
  {
   "cell_type": "code",
   "execution_count": 54,
   "metadata": {},
   "outputs": [
    {
     "name": "stdout",
     "output_type": "stream",
     "text": "0.131 s ±  18 ms stdev\n"
    }
   ],
   "source": [
    "import timeit\n",
    "import numpy as np\n",
    "\n",
    "reps = timeit.repeat(repeat=3, \n",
    "                    number=10000,\n",
    "                    stmt=\"np.random.choice(a)\",\n",
    "                    setup=\"import numpy as np; a=[0,6,3,1,3,9,4,3,2,6]\")\n",
    "\n",
    "# taking the median might be better, since I suspect the distribution of times will\n",
    "# be heavily skewed\n",
    "\n",
    "avg = np.mean(reps)\n",
    "sd = np.std(reps)\n",
    "\n",
    "print(\"{:8.3f} s ± {:3.0f} ms stdev\".format(avg, sd*1000))"
   ]
  },
  {
   "cell_type": "code",
   "execution_count": 47,
   "metadata": {},
   "outputs": [
    {
     "name": "stdout",
     "output_type": "stream",
     "text": "11.37 s ±  57 ms stdev\n"
    }
   ],
   "source": [
    "print(\"{:8.2f} s ± {:3.0f} ms stdev\".format(avg, sd*1000))"
   ]
  },
  {
   "cell_type": "code",
   "execution_count": 15,
   "metadata": {},
   "outputs": [
    {
     "name": "stdout",
     "output_type": "stream",
     "text": "Linear search time: 4.269626245004474\n[4.526722496011644, 4.332855236003525, 4.269626245004474]\nBinary search time: 3.3117886099935276\n"
    }
   ],
   "source": [
    "\n",
    "# importing the required modules \n",
    "import timeit \n",
    "  \n",
    "# binary search function \n",
    "def binary_search(mylist, find): \n",
    "    while len(mylist) > 0: \n",
    "        mid = (len(mylist))//2\n",
    "        if mylist[mid] == find: \n",
    "            return True\n",
    "        elif mylist[mid] < find: \n",
    "            mylist = mylist[:mid] \n",
    "        else: \n",
    "            mylist = mylist[mid + 1:] \n",
    "    return False\n",
    "  \n",
    "  \n",
    "# linear search function \n",
    "def linear_search(mylist, find): \n",
    "    for x in mylist: \n",
    "        if x == find: \n",
    "            return True\n",
    "    return False\n",
    "  \n",
    "  \n",
    "# compute binary search time \n",
    "def binary_time(): \n",
    "    SETUP_CODE = ''' \n",
    "from __main__ import binary_search \n",
    "from random import randint'''\n",
    "  \n",
    "    TEST_CODE = ''' \n",
    "mylist = [x for x in range(10000)] \n",
    "find = randint(0, len(mylist)) \n",
    "binary_search(mylist, find)'''\n",
    "      \n",
    "    # timeit.repeat statement \n",
    "    times = timeit.repeat(setup = SETUP_CODE, \n",
    "                          stmt = TEST_CODE, \n",
    "                          repeat = 3, \n",
    "                          number = 10000) \n",
    "  \n",
    "    # priniting minimum exec. time \n",
    "    print('Binary search time: {}'.format(min(times)))         \n",
    "  \n",
    "  \n",
    "# compute linear search time \n",
    "def linear_time(): \n",
    "    SETUP_CODE = ''' \n",
    "from __main__ import linear_search \n",
    "from random import randint'''\n",
    "      \n",
    "    TEST_CODE = ''' \n",
    "mylist = [x for x in range(10000)] \n",
    "find = randint(0, len(mylist)) \n",
    "linear_search(mylist, find) \n",
    "    '''\n",
    "    # timeit.repeat statement \n",
    "    times = timeit.repeat(setup = SETUP_CODE, \n",
    "                          stmt = TEST_CODE, \n",
    "                          repeat = 3, \n",
    "                          number = 10000) \n",
    "  \n",
    "    # priniting minimum exec. time \n",
    "    print('Linear search time: {}'.format(min(times)))   \n",
    "    print(times)\n",
    "  \n",
    "\n",
    "if __name__ == \"__main__\": \n",
    "    linear_time() \n",
    "    binary_time() \n"
   ]
  },
  {
   "cell_type": "code",
   "execution_count": null,
   "metadata": {},
   "outputs": [],
   "source": []
  }
 ]
}